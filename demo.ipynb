{
 "cells": [
  {
   "cell_type": "markdown",
   "id": "d6096d00",
   "metadata": {},
   "source": [
    "Mon Titre de document\n",
    "===================\n",
    "\n",
    "# Mon Titre\n",
    "\n",
    "Mon sous-titre\n",
    "---------------------\n",
    "\n",
    "## Titre niveau 2\n",
    "\n",
    "### Titre niveau 3\n"
   ]
  },
  {
   "cell_type": "markdown",
   "id": "63a7c35d",
   "metadata": {},
   "source": [
    "lfdsj mfsjdfkjdsflkds jflkdsjf kdsljf dslkfmjsf\n",
    "djsqlkdjsqkdjsqkdjsqkdjsqkdjsqlkdjsqdlkjsqlkdjsqdkqd\n",
    "dnqslkjdlksqjdhdjsqhdjsqhdkjqshdqkjd\n",
    "\n",
    "jdhsqkjdhqsjdhkjsqdhsqkjdhsqkjdhsqjdkjdqskd\n",
    "dqjshdjqshdkjsqhd jdqslkdlsqjdlksqdjsqlkdljqdq\n",
    "\n",
    "en **gras** en *italique* \n",
    "\n",
    "  - djsdkjsds \n",
    "    kdsjlkdjsdlksd dksmldsjdms\n",
    "    dlkjsdhjshdsd\n",
    "    djsdijslskd\n",
    "    \n",
    "  - djsldkjslkds\n",
    "    jdskjdksjdslkdskdj \n",
    "    djskdjlksjdslkdjs\n",
    "    \n",
    "    \n",
    " 1. ksdjslkjsd\n",
    " \n",
    " 2. aller chercher du pain !\n",
    "\n",
    "\n",
    "Allez voir [la une de \"Le Monde\"](https://www.lemonde.fr)\n",
    "\n",
    "lien \"brut\" <https://www.lemonde.fr>\n",
    "\n",
    "[Lien interne vers ma section](#sous-section)"
   ]
  },
  {
   "cell_type": "markdown",
   "id": "ab8acc1c",
   "metadata": {},
   "source": [
    "Il est possible de faire des maths: $a=1$ dans le texte (inline)\n",
    "\n",
    "$$\n",
    "I = \\int_0^1 f(x) \\, dx\n",
    "$$\n",
    "\n",
    "$$\n",
    "\\frac{1+1}{2}\n",
    "$$\n"
   ]
  },
  {
   "cell_type": "markdown",
   "id": "fe43490f",
   "metadata": {},
   "source": [
    "La structure général de la boucle pygame est:\n",
    "\n",
    "    while True:\n",
    "        ...\n",
    "\n",
    "et voilà !"
   ]
  },
  {
   "cell_type": "code",
   "execution_count": 11,
   "id": "91dec04e",
   "metadata": {},
   "outputs": [
    {
     "name": "stdout",
     "output_type": "stream",
     "text": [
      "Yes I can!\n"
     ]
    }
   ],
   "source": [
    "def doit():\n",
    "    print(\"Yes I can!\")\n",
    "    \n",
    "if True:\n",
    "    doit()"
   ]
  },
  {
   "cell_type": "code",
   "execution_count": 7,
   "id": "a5473d0f",
   "metadata": {},
   "outputs": [
    {
     "name": "stdout",
     "output_type": "stream",
     "text": [
      "hello\n"
     ]
    },
    {
     "data": {
      "text/plain": [
       "'hello'"
      ]
     },
     "execution_count": 7,
     "metadata": {},
     "output_type": "execute_result"
    }
   ],
   "source": [
    "print(\"hello\")\n",
    "\"hello\""
   ]
  },
  {
   "cell_type": "markdown",
   "id": "dc096e43",
   "metadata": {},
   "source": [
    "Ceci est du texte\n",
    "\n",
    "### Sous-sous-titre"
   ]
  },
  {
   "cell_type": "code",
   "execution_count": 8,
   "id": "3d7ab5c9",
   "metadata": {},
   "outputs": [
    {
     "data": {
      "text/plain": [
       "'hdshd'"
      ]
     },
     "execution_count": 8,
     "metadata": {},
     "output_type": "execute_result"
    }
   ],
   "source": [
    "\"hdshd\""
   ]
  },
  {
   "cell_type": "markdown",
   "id": "5964a3fd",
   "metadata": {},
   "source": [
    "<div id=\"sous-section\">\n",
    "    \n",
    "Ma sous-section    \n",
    "    \n",
    "</div>"
   ]
  },
  {
   "cell_type": "code",
   "execution_count": null,
   "id": "0bb96393",
   "metadata": {},
   "outputs": [],
   "source": []
  }
 ],
 "metadata": {
  "kernelspec": {
   "display_name": "Python 3 (ipykernel)",
   "language": "python",
   "name": "python3"
  },
  "language_info": {
   "codemirror_mode": {
    "name": "ipython",
    "version": 3
   },
   "file_extension": ".py",
   "mimetype": "text/x-python",
   "name": "python",
   "nbconvert_exporter": "python",
   "pygments_lexer": "ipython3",
   "version": "3.9.12"
  }
 },
 "nbformat": 4,
 "nbformat_minor": 5
}
